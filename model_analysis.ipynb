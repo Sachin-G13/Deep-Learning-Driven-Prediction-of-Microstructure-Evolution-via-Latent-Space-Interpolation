{
 "cells": [
  {
   "cell_type": "markdown",
   "id": "75b7ea64",
   "metadata": {},
   "source": [
    "### Finding closest match for an original image at desired timestep value and desired composition"
   ]
  },
  {
   "cell_type": "code",
   "execution_count": null,
   "id": "af739d4a",
   "metadata": {},
   "outputs": [],
   "source": [
    "from utils import find_target_image, find_closest_match\n",
    "\n",
    "# Paths\n",
    "org_folder_path = \"C32_img\" # Specify the path to the original folder\n",
    "set_folder_path = \"0.32_slerp_overall\" # Specify the path to the generated folder\n",
    "desired_timestep = 750 # Specify the desired timestep value\n",
    "\n",
    "# Step 1: Finding target image in original folder\n",
    "target_filename, target_area = find_target_image(org_folder_path, desired_timestep)\n",
    "\n",
    "if target_area is None:\n",
    "    print(\"Target image not found.\")\n",
    "else:\n",
    "    print(f\"Average area of timestep {desired_timestep} image ({target_filename}): {target_area:.2f}\")\n",
    "\n",
    "    # Step 2: Finding closest match in generated folder\n",
    "    closest_filename, closest_area = find_closest_match(set_folder_path, target_area)\n",
    "\n",
    "    if closest_filename:\n",
    "        print(f\"Closest match found: {closest_filename} with average area: {closest_area:.2f}\")\n",
    "    else:\n",
    "        print(\"No suitable image found in the generated folder.\")\n"
   ]
  },
  {
   "cell_type": "markdown",
   "id": "70743a7c",
   "metadata": {},
   "source": [
    "### 2-Point Auto-correlation plot between original and corresponding generated image at same timestep and of composition value"
   ]
  },
  {
   "cell_type": "code",
   "execution_count": null,
   "id": "70b7e91e",
   "metadata": {},
   "outputs": [],
   "source": [
    "import matplotlib.pyplot as plt\n",
    "from utils import load_grayscale_image, compute_autocorrelation, radial_profile\n",
    "\n",
    "# Using the paths from the previous step\n",
    "img1 = load_grayscale_image(f\"{org_folder_path}/comp_750.png\")\n",
    "img2 = load_grayscale_image(f\"{set_folder_path}/{closest_filename}\")\n",
    "\n",
    "# Autocorrelation and radial profile\n",
    "auto1 = compute_autocorrelation(img1)\n",
    "auto2 = compute_autocorrelation(img2)\n",
    "\n",
    "radial_auto1 = radial_profile(auto1)\n",
    "radial_auto2 = radial_profile(auto2)\n",
    "\n",
    "# Perofrming normalization\n",
    "radial_auto1 /= radial_auto1[0]\n",
    "radial_auto2 /= radial_auto2[0]\n",
    "\n",
    "plt.rcParams.update({'font.size': 22})  \n",
    "plt.figure(figsize=(10, 8))              \n",
    "\n",
    "plt.plot(radial_auto1, '-o', label=f'{float(set_folder_path.split(\"_\")[0])}_org', color='blue')\n",
    "plt.plot(radial_auto2, '-d', label=f'{float(set_folder_path.split(\"_\")[0])}_gen', color='red')\n",
    "\n",
    "plt.xlim(0, 150)                      \n",
    "plt.xlabel(r\"Comoving Distance (s) in $h^{-1}$ Mpc\")\n",
    "plt.ylabel(r\"$\\xi(s)$\")\n",
    "plt.legend()\n",
    "plt.grid(False)\n",
    "plt.tight_layout()\n",
    "plt.show()"
   ]
  },
  {
   "cell_type": "markdown",
   "id": "cfaeee9a",
   "metadata": {},
   "source": [
    "### Comparison of Original and Generated images' evolution at specified composition value"
   ]
  },
  {
   "cell_type": "code",
   "execution_count": null,
   "id": "dbfae3a3",
   "metadata": {},
   "outputs": [],
   "source": [
    "from utils import plot_avg_area_vs_timestep\n",
    "\n",
    "plot_avg_area_vs_timestep(org_folder_path=\"C32_img\", set_folder_path=\"0.32_slerp_overall\") # Specify the path to the original folder and the generated folder here "
   ]
  }
 ],
 "metadata": {
  "kernelspec": {
   "display_name": "base",
   "language": "python",
   "name": "python3"
  },
  "language_info": {
   "codemirror_mode": {
    "name": "ipython",
    "version": 3
   },
   "file_extension": ".py",
   "mimetype": "text/x-python",
   "name": "python",
   "nbconvert_exporter": "python",
   "pygments_lexer": "ipython3",
   "version": "3.11.7"
  }
 },
 "nbformat": 4,
 "nbformat_minor": 5
}
